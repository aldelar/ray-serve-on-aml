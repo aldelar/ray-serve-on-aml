{
 "cells": [
  {
   "cell_type": "markdown",
   "metadata": {},
   "source": [
    "Setup Notes:\n",
    "1. Register the model/model.joblib in your workspace under the name sklearn-iris\n",
    "2. Create the necessary resources using the src/IaC/IaC_0_ray_serve_on_aml.azcli script\n",
    "3. Get the external IP address of your many-models raycluster load balancer service and update the 'base_uri' variable accordingly below\n",
    "   kubectl get service many-models-loadbalancer\n",
    "4. If you update your code (many_models_serving.py), then you have to zip the folder script and push to ray repo. Update the line 15 in ray_service.yaml to point the working_dir to the zip file in your git repo\n",
    "5. Execute the code below from a kernel based on src/tests/test_conda.yml conda environment"
   ]
  },
  {
   "cell_type": "code",
   "execution_count": null,
   "metadata": {},
   "outputs": [],
   "source": [
    "import json\n",
    "import urllib.request\n",
    "import random\n",
    "import pandas as pd\n",
    "\n",
    "base_uri ='http://20.118.113.102:8000'\n",
    "\n",
    "dataset = pd.read_csv(\"https://azuremlexamples.blob.core.windows.net/datasets/iris.csv\")\n",
    "X=dataset[['sepal_length','sepal_width','petal_length','petal_width']]\n",
    "\n",
    "def score(X, tenant):\n",
    "    # tenant = random.choices([\"tenant1\",\"tenant2\", \"tenant3\",\"tenant4\",\"tenant5\",\"tenant6\",\"tenant7\", \"tenant8\",\"tenant9\"])[0]\n",
    "    len = random.randint(2,50)\n",
    "    data = {\"tenant\":tenant, \"data\": X.head(len).to_numpy().tolist()}\n",
    "    body = str.encode(json.dumps(data))\n",
    "    url = f'{base_uri}/score'\n",
    "    headers = {'Content-Type':'application/json'}\n",
    "    req = urllib.request.Request(url, body, headers)\n",
    "\n",
    "    try:\n",
    "        response = urllib.request.urlopen(req)\n",
    "        result = response.read()\n",
    "        print(json.loads(result))\n",
    "    except urllib.error.HTTPError as error:\n",
    "        print(\"The request failed with status code: \" + str(error.code))\n",
    "        # Print the headers - they include the requert ID and the timestamp, which are useful for debugging the failure\n",
    "        print(error.info())\n",
    "        print(error.read().decode(\"utf8\", 'ignore'))\n",
    "\n",
    "def updated_dedicated_pool(mapping):\n",
    "\n",
    "    body = str.encode(json.dumps({\"mapping\":mapping}))\n",
    "    url = f'{base_uri}/update_dedicated_pool'\n",
    "    headers = {'Content-Type':'application/json'}\n",
    "    req = urllib.request.Request(url, body, headers)\n",
    "    try:\n",
    "        response = urllib.request.urlopen(req)\n",
    "        result = response.read()\n",
    "        print(json.loads(result))\n",
    "    except urllib.error.HTTPError as error:\n",
    "        print(\"The request failed with status code: \" + str(error.code))\n",
    "        # Print the headers - they include the requert ID and the timestamp, which are useful for debugging the failure\n",
    "        print(error.info())\n",
    "        print(error.read().decode(\"utf8\", 'ignore'))\n"
   ]
  },
  {
   "cell_type": "code",
   "execution_count": null,
   "metadata": {},
   "outputs": [],
   "source": [
    "score(X, \"tenant25\")"
   ]
  },
  {
   "cell_type": "markdown",
   "metadata": {},
   "source": [
    "API to update dedicated pool mapping. Try this to assign a tenant to a dedicated deployment"
   ]
  },
  {
   "cell_type": "code",
   "execution_count": null,
   "metadata": {},
   "outputs": [],
   "source": [
    "mapping ={\"tenant19\":\"deployment9\",\"tenant10\":\"deployment10\"}\n",
    "updated_dedicated_pool(mapping)"
   ]
  }
 ],
 "metadata": {
  "kernelspec": {
   "display_name": "Python 3.10.8 ('ray-serve-on-aml-test')",
   "language": "python",
   "name": "python3"
  },
  "language_info": {
   "codemirror_mode": {
    "name": "ipython",
    "version": 3
   },
   "file_extension": ".py",
   "mimetype": "text/x-python",
   "name": "python",
   "nbconvert_exporter": "python",
   "pygments_lexer": "ipython3",
   "version": "3.10.8"
  },
  "orig_nbformat": 4,
  "vscode": {
   "interpreter": {
    "hash": "c90d60a920eab8a46215909bee78792dfb37b8b9eaa53a2b6312cdb0e17615b8"
   }
  }
 },
 "nbformat": 4,
 "nbformat_minor": 2
}
