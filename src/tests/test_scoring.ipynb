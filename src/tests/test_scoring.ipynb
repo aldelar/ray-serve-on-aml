{
 "cells": [
  {
   "cell_type": "markdown",
   "metadata": {},
   "source": [
    "Preperation before running the test\n",
    "1. Register the model/model.joblib in your workspace under the name sklearn-iris\n",
    "2. Create AKS cluster and attach it to your workspace using AKS creation the commands in ray_aks_setup.yaml\n",
    "3. Deploy Azure ML web services with following commmand (install azure ml cli v2 if neccessary)\n",
    " az online-endpoint create -f endpoint.yml\n",
    " az online-deployment create -f blue-deployment.yml\n",
    "4. Update the environment variables with values in ray_service.yaml line 80-91 with values of a service principal to download model from your workspace (creating one and assign role if neccessary)\n",
    "5. Run ray service deployment commands in ray_aks_setup.yaml \n",
    "6. If you update your code (ray_score.py), then you have to zip the folder script and push to ray repo. Update the line 15 in ray_aks_setup.yaml to point the working_dir to the zip file in your git repo\n",
    "\n"
   ]
  },
  {
   "cell_type": "code",
   "execution_count": 111,
   "metadata": {},
   "outputs": [],
   "source": [
    "import json\n",
    "import urllib.request\n",
    "import random\n",
    "url = 'http://20.120.184.55:8000/score'\n",
    "def score(X, tenant):\n",
    "    # tenant = random.choices([\"tenant1\",\"tenant2\", \"tenant3\",\"tenant4\",\"tenant5\",\"tenant6\",\"tenant7\", \"tenant8\",\"tenant9\"])[0]\n",
    "\n",
    "    len = random.randint(2,50)\n",
    "    data = {\"tenant\":tenant, \"data\": X.head(len).to_numpy().tolist()}\n",
    "\n",
    "    body = str.encode(json.dumps(data))\n",
    "\n",
    "    \n",
    "\n",
    "\n",
    "    headers = {'Content-Type':'application/json'}\n",
    "\n",
    "    req = urllib.request.Request(url, body, headers)\n",
    "\n",
    "    try:\n",
    "        response = urllib.request.urlopen(req)\n",
    "\n",
    "        result = response.read()\n",
    "        print(json.loads(result))\n",
    "    except urllib.error.HTTPError as error:\n",
    "        print(\"The request failed with status code: \" + str(error.code))\n",
    "\n",
    "        # Print the headers - they include the requert ID and the timestamp, which are useful for debugging the failure\n",
    "        print(error.info())\n",
    "        print(error.read().decode(\"utf8\", 'ignore'))\n",
    "\n",
    "def updated_dedicated_pool(mapping):\n",
    "\n",
    "\n",
    "\n",
    "    body = str.encode(json.dumps({\"mapping\":mapping}))\n",
    "\n",
    "\n",
    "\n",
    "    headers = {'Content-Type':'application/json'}\n",
    "\n",
    "    req = urllib.request.Request(url, body, headers)\n",
    "\n",
    "    try:\n",
    "        response = urllib.request.urlopen(req)\n",
    "\n",
    "        result = response.read()\n",
    "        print(json.loads(result))\n",
    "    except urllib.error.HTTPError as error:\n",
    "        print(\"The request failed with status code: \" + str(error.code))\n",
    "\n",
    "        # Print the headers - they include the requert ID and the timestamp, which are useful for debugging the failure\n",
    "        print(error.info())\n",
    "        print(error.read().decode(\"utf8\", 'ignore'))\n"
   ]
  },
  {
   "cell_type": "code",
   "execution_count": 2,
   "metadata": {},
   "outputs": [],
   "source": [
    "import pandas as pd\n",
    "from sklearn.preprocessing import LabelEncoder\n",
    "import joblib\n",
    "dataset = pd.read_csv(\"https://azuremlexamples.blob.core.windows.net/datasets/iris.csv\")\n",
    "X= dataset[['sepal_length','sepal_width','petal_length','petal_width']]\n"
   ]
  },
  {
   "cell_type": "code",
   "execution_count": 115,
   "metadata": {},
   "outputs": [
    {
     "name": "stdout",
     "output_type": "stream",
     "text": [
      "{'deployment': 'Deployment2', 'model': 'tenant25', 'prediction': [0, 0, 0, 0, 0, 0, 0, 0, 0, 0, 0], 'deployment_map': {'tenant1': 'deployment1', 'tenant3': 'deployment3', 'tenant4': 'deployment4', 'tenant5': 'deployment5', 'tenant6': 'deployment6', 'tenant7': 'deployment7', 'tenant8': 'deployment8', 'tenant25': 'deployment2'}}\n"
     ]
    }
   ],
   "source": [
    "score(X, \"tenant25\")"
   ]
  },
  {
   "cell_type": "markdown",
   "metadata": {},
   "source": [
    "API to update dedicated pool mapping. Try this to assign a tenant to a dedicated deployment"
   ]
  },
  {
   "cell_type": "code",
   "execution_count": 108,
   "metadata": {},
   "outputs": [
    {
     "name": "stdout",
     "output_type": "stream",
     "text": [
      "{'tenant19': 'deployment9', 'tenant10': 'deployment10'}\n"
     ]
    }
   ],
   "source": [
    "mapping ={\"tenant19\":\"deployment9\",\"tenant10\":\"deployment10\"}\n",
    "updated_dedicated_pool(mapping)"
   ]
  }
 ],
 "metadata": {
  "kernelspec": {
   "display_name": "Python 3.8.5 ('dlresearch')",
   "language": "python",
   "name": "python3"
  },
  "language_info": {
   "codemirror_mode": {
    "name": "ipython",
    "version": 3
   },
   "file_extension": ".py",
   "mimetype": "text/x-python",
   "name": "python",
   "nbconvert_exporter": "python",
   "pygments_lexer": "ipython3",
   "version": "3.8.5"
  },
  "orig_nbformat": 4,
  "vscode": {
   "interpreter": {
    "hash": "8858a4df92b06e9052bc306608e3218c33233584bc6448961c72d65ba55843de"
   }
  }
 },
 "nbformat": 4,
 "nbformat_minor": 2
}
