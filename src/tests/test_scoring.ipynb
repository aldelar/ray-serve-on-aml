{
 "cells": [
  {
   "cell_type": "markdown",
   "metadata": {},
   "source": [
    "Preperation before running the test\n",
    "1. Register the model/model.joblib in your workspace under the name sklearn-iris\n",
    "2. Create AKS cluster and attach it to your workspace using AKS creation the commands in ray_aks_setup.yaml\n",
    "3. Deploy Azure ML web services with following commmand (install azure ml cli v2 if neccessary)\n",
    " az online-endpoint create -f endpoint.yml\n",
    " az online-deployment create -f blue-deployment.yml\n",
    "4. Update the environment variables with values in ray_service.yaml line 80-91 with values of a service principal to download model from your workspace (creating one and assign role if neccessary)\n",
    "5. Run ray service deployment commands in ray_aks_setup.yaml \n",
    "6. If you update your code (ray_score.py), then you have to zip the folder script and push to ray repo. Update the line 15 in ray_aks_setup.yaml to point the working_dir to the zip file in your git repo\n",
    "\n"
   ]
  },
  {
   "cell_type": "code",
   "execution_count": 72,
   "metadata": {},
   "outputs": [],
   "source": [
    "import json\n",
    "import urllib.request\n",
    "import random\n",
    "import requests\n",
    "\n",
    "IPADDRESS = '20.252.37.17'\n",
    "base_uri = f'http://{IPADDRESS}:8000'\n",
    "\n",
    "def score(X, tenant):\n",
    "    # tenant = random.choices([\"tenant1\",\"tenant2\", \"tenant3\",\"tenant4\",\"tenant5\",\"tenant6\",\"tenant7\", \"tenant8\",\"tenant9\"])[0]\n",
    "    len = random.randint(2,50)\n",
    "    data = {\"tenant\":tenant, \"data\": X.head(len).to_numpy().tolist()}\n",
    "\n",
    "    body = str.encode(json.dumps(data))\n",
    "\n",
    "    url = f'{base_uri}/score'\n",
    "\n",
    "    headers = {'Content-Type':'application/json'}\n",
    "\n",
    "    req = urllib.request.Request(url, body, headers)\n",
    "\n",
    "    try:\n",
    "        response = urllib.request.urlopen(req)\n",
    "\n",
    "        result = response.read()\n",
    "        print(json.loads(result))\n",
    "    except urllib.error.HTTPError as error:\n",
    "        print(\"The request failed with status code: \" + str(error.code))\n",
    "\n",
    "        # Print the headers - they include the requert ID and the timestamp, which are useful for debugging the failure\n",
    "        print(error.info())\n",
    "        print(error.read().decode(\"utf8\", 'ignore'))\n",
    "\n",
    "def updated_dedicated_pool(mapping):\n",
    "\n",
    "    body = str.encode(json.dumps({\"mapping\":mapping}))\n",
    "\n",
    "    url = f'{base_uri}/update_dedicated_pool'\n",
    "\n",
    "    headers = {'Content-Type':'application/json'}\n",
    "\n",
    "    req = urllib.request.Request(url, body, headers)\n",
    "\n",
    "    try:\n",
    "        response = urllib.request.urlopen(req)\n",
    "\n",
    "        result = response.read()\n",
    "        print(json.loads(result))\n",
    "    except urllib.error.HTTPError as error:\n",
    "        print(\"The request failed with status code: \" + str(error.code))\n",
    "\n",
    "        # Print the headers - they include the requert ID and the timestamp, which are useful for debugging the failure\n",
    "        print(error.info())\n",
    "        print(error.read().decode(\"utf8\", 'ignore'))\n",
    "\n",
    "def get_dynamic_tenantmap():\n",
    "    url = f'{base_uri}/get_dynamic_tenantmap'\n",
    "    headers = {'Content-Type':'application/json'}\n",
    "    # req = urllib.request.Request(url, headers)\n",
    "\n",
    "    try:\n",
    "        # response = urllib.request.Request(url, headers, method=\"get\")\n",
    "        response = requests.get(url, headers=headers)\n",
    "\n",
    "        result = response.json()\n",
    "        print(result)\n",
    "    except urllib.error.HTTPError as error:\n",
    "        print(\"The request failed with status code: \" + str(error.code))\n",
    "\n",
    "        # Print the headers - they include the requert ID and the timestamp, which are useful for debugging the failure\n",
    "        print(error.info())\n",
    "        print(error.read().decode(\"utf8\", 'ignore'))\n"
   ]
  },
  {
   "cell_type": "code",
   "execution_count": 73,
   "metadata": {},
   "outputs": [],
   "source": [
    "import pandas as pd\n",
    "from sklearn.preprocessing import LabelEncoder\n",
    "import joblib\n",
    "dataset = pd.read_csv(\"https://azuremlexamples.blob.core.windows.net/datasets/iris.csv\")\n",
    "X= dataset[['sepal_length','sepal_width','petal_length','petal_width']]\n"
   ]
  },
  {
   "cell_type": "code",
   "execution_count": 74,
   "metadata": {},
   "outputs": [
    {
     "name": "stdout",
     "output_type": "stream",
     "text": [
      "The request failed with status code: 500\n",
      "date: Mon, 05 Dec 2022 07:19:11 GMT\n",
      "server: uvicorn\n",
      "content-type: text/plain; charset=utf-8\n",
      "Transfer-Encoding: chunked\n",
      "Connection: close\n",
      "\n",
      "\n",
      "Task Error. Traceback: \u001b[36mray::ServeReplica:Dispatcher.handle_request()\u001b[39m (pid=322, ip=10.244.0.16)\n",
      "  File \"/home/ray/anaconda3/lib/python3.7/site-packages/ray/serve/_private/utils.py\", line 231, in wrap_to_ray_error\n",
      "    raise exception\n",
      "  File \"/home/ray/anaconda3/lib/python3.7/site-packages/ray/serve/_private/replica.py\", line 420, in invoke_single\n",
      "    result = await method_to_call(*args, **kwargs)\n",
      "  File \"/home/ray/anaconda3/lib/python3.7/site-packages/ray/serve/api.py\", line 224, in __call__\n",
      "    sender,\n",
      "  File \"/home/ray/anaconda3/lib/python3.7/site-packages/fastapi/applications.py\", line 269, in __call__\n",
      "    await super().__call__(scope, receive, send)\n",
      "  File \"/home/ray/anaconda3/lib/python3.7/site-packages/starlette/applications.py\", line 124, in __call__\n",
      "    await self.middleware_stack(scope, receive, send)\n",
      "  File \"/home/ray/anaconda3/lib/python3.7/site-packages/starlette/middleware/errors.py\", line 184, in __call__\n",
      "    raise exc\n",
      "  File \"/home/ray/anaconda3/lib/python3.7/site-packages/starlette/middleware/errors.py\", line 162, in __call__\n",
      "    await self.app(scope, receive, _send)\n",
      "  File \"/home/ray/anaconda3/lib/python3.7/site-packages/starlette/exceptions.py\", line 93, in __call__\n",
      "    raise exc\n",
      "  File \"/home/ray/anaconda3/lib/python3.7/site-packages/starlette/exceptions.py\", line 82, in __call__\n",
      "    await self.app(scope, receive, sender)\n",
      "  File \"/home/ray/anaconda3/lib/python3.7/site-packages/fastapi/middleware/asyncexitstack.py\", line 21, in __call__\n",
      "    raise e\n",
      "  File \"/home/ray/anaconda3/lib/python3.7/site-packages/fastapi/middleware/asyncexitstack.py\", line 18, in __call__\n",
      "    await self.app(scope, receive, send)\n",
      "  File \"/home/ray/anaconda3/lib/python3.7/site-packages/starlette/routing.py\", line 670, in __call__\n",
      "    await route.handle(scope, receive, send)\n",
      "  File \"/home/ray/anaconda3/lib/python3.7/site-packages/starlette/routing.py\", line 266, in handle\n",
      "    await self.app(scope, receive, send)\n",
      "  File \"/home/ray/anaconda3/lib/python3.7/site-packages/starlette/routing.py\", line 65, in app\n",
      "    response = await func(request)\n",
      "  File \"/home/ray/anaconda3/lib/python3.7/site-packages/fastapi/routing.py\", line 228, in app\n",
      "    dependant=dependant, values=values, is_coroutine=is_coroutine\n",
      "  File \"/home/ray/anaconda3/lib/python3.7/site-packages/fastapi/routing.py\", line 160, in run_endpoint_function\n",
      "    return await dependant.call(**values)\n",
      "  File \"/tmp/ray/session_2022-12-04_23-15-52_973993_7/runtime_resources/working_dir_files/https_github_com_aldelar_ray-serve-on-aml_raw_hs-dev-3_src_core/many_models_serving.py\", line 397, in process\n",
      "    deployment_name = ray.get(deployment_name)\n",
      "ValueError: 'object_refs' must either be an object ref or a list of object refs..\n"
     ]
    }
   ],
   "source": [
    "score(X, \"tenant1\")"
   ]
  },
  {
   "cell_type": "code",
   "execution_count": 70,
   "metadata": {},
   "outputs": [
    {
     "name": "stdout",
     "output_type": "stream",
     "text": [
      "{\"tenant1\": \"deployment1\", \"tenant2\": \"deployment2\", \"tenant3\": \"deployment3\", \"tenant4\": \"deployment4\", \"tenant5\": \"deployment5\", \"tenant6\": \"deployment6\", \"tenant7\": \"deployment7\", \"tenant8\": \"deployment8\"}\n"
     ]
    }
   ],
   "source": [
    "get_dynamic_tenantmap()"
   ]
  },
  {
   "cell_type": "code",
   "execution_count": 61,
   "metadata": {},
   "outputs": [
    {
     "ename": "URLError",
     "evalue": "<urlopen error [Errno 111] Connection refused>",
     "output_type": "error",
     "traceback": [
      "\u001b[0;31m---------------------------------------------------------------------------\u001b[0m",
      "\u001b[0;31mConnectionRefusedError\u001b[0m                    Traceback (most recent call last)",
      "File \u001b[0;32m~/anaconda3/envs/rayonaml-dev/lib/python3.8/urllib/request.py:1354\u001b[0m, in \u001b[0;36mAbstractHTTPHandler.do_open\u001b[0;34m(self, http_class, req, **http_conn_args)\u001b[0m\n\u001b[1;32m   1353\u001b[0m \u001b[39mtry\u001b[39;00m:\n\u001b[0;32m-> 1354\u001b[0m     h\u001b[39m.\u001b[39;49mrequest(req\u001b[39m.\u001b[39;49mget_method(), req\u001b[39m.\u001b[39;49mselector, req\u001b[39m.\u001b[39;49mdata, headers,\n\u001b[1;32m   1355\u001b[0m               encode_chunked\u001b[39m=\u001b[39;49mreq\u001b[39m.\u001b[39;49mhas_header(\u001b[39m'\u001b[39;49m\u001b[39mTransfer-encoding\u001b[39;49m\u001b[39m'\u001b[39;49m))\n\u001b[1;32m   1356\u001b[0m \u001b[39mexcept\u001b[39;00m \u001b[39mOSError\u001b[39;00m \u001b[39mas\u001b[39;00m err: \u001b[39m# timeout error\u001b[39;00m\n",
      "File \u001b[0;32m~/anaconda3/envs/rayonaml-dev/lib/python3.8/http/client.py:1256\u001b[0m, in \u001b[0;36mHTTPConnection.request\u001b[0;34m(self, method, url, body, headers, encode_chunked)\u001b[0m\n\u001b[1;32m   1255\u001b[0m \u001b[39m\"\"\"Send a complete request to the server.\"\"\"\u001b[39;00m\n\u001b[0;32m-> 1256\u001b[0m \u001b[39mself\u001b[39;49m\u001b[39m.\u001b[39;49m_send_request(method, url, body, headers, encode_chunked)\n",
      "File \u001b[0;32m~/anaconda3/envs/rayonaml-dev/lib/python3.8/http/client.py:1302\u001b[0m, in \u001b[0;36mHTTPConnection._send_request\u001b[0;34m(self, method, url, body, headers, encode_chunked)\u001b[0m\n\u001b[1;32m   1301\u001b[0m     body \u001b[39m=\u001b[39m _encode(body, \u001b[39m'\u001b[39m\u001b[39mbody\u001b[39m\u001b[39m'\u001b[39m)\n\u001b[0;32m-> 1302\u001b[0m \u001b[39mself\u001b[39;49m\u001b[39m.\u001b[39;49mendheaders(body, encode_chunked\u001b[39m=\u001b[39;49mencode_chunked)\n",
      "File \u001b[0;32m~/anaconda3/envs/rayonaml-dev/lib/python3.8/http/client.py:1251\u001b[0m, in \u001b[0;36mHTTPConnection.endheaders\u001b[0;34m(self, message_body, encode_chunked)\u001b[0m\n\u001b[1;32m   1250\u001b[0m     \u001b[39mraise\u001b[39;00m CannotSendHeader()\n\u001b[0;32m-> 1251\u001b[0m \u001b[39mself\u001b[39;49m\u001b[39m.\u001b[39;49m_send_output(message_body, encode_chunked\u001b[39m=\u001b[39;49mencode_chunked)\n",
      "File \u001b[0;32m~/anaconda3/envs/rayonaml-dev/lib/python3.8/http/client.py:1011\u001b[0m, in \u001b[0;36mHTTPConnection._send_output\u001b[0;34m(self, message_body, encode_chunked)\u001b[0m\n\u001b[1;32m   1010\u001b[0m \u001b[39mdel\u001b[39;00m \u001b[39mself\u001b[39m\u001b[39m.\u001b[39m_buffer[:]\n\u001b[0;32m-> 1011\u001b[0m \u001b[39mself\u001b[39;49m\u001b[39m.\u001b[39;49msend(msg)\n\u001b[1;32m   1013\u001b[0m \u001b[39mif\u001b[39;00m message_body \u001b[39mis\u001b[39;00m \u001b[39mnot\u001b[39;00m \u001b[39mNone\u001b[39;00m:\n\u001b[1;32m   1014\u001b[0m \n\u001b[1;32m   1015\u001b[0m     \u001b[39m# create a consistent interface to message_body\u001b[39;00m\n",
      "File \u001b[0;32m~/anaconda3/envs/rayonaml-dev/lib/python3.8/http/client.py:951\u001b[0m, in \u001b[0;36mHTTPConnection.send\u001b[0;34m(self, data)\u001b[0m\n\u001b[1;32m    950\u001b[0m \u001b[39mif\u001b[39;00m \u001b[39mself\u001b[39m\u001b[39m.\u001b[39mauto_open:\n\u001b[0;32m--> 951\u001b[0m     \u001b[39mself\u001b[39;49m\u001b[39m.\u001b[39;49mconnect()\n\u001b[1;32m    952\u001b[0m \u001b[39melse\u001b[39;00m:\n",
      "File \u001b[0;32m~/anaconda3/envs/rayonaml-dev/lib/python3.8/http/client.py:922\u001b[0m, in \u001b[0;36mHTTPConnection.connect\u001b[0;34m(self)\u001b[0m\n\u001b[1;32m    921\u001b[0m \u001b[39m\"\"\"Connect to the host and port specified in __init__.\"\"\"\u001b[39;00m\n\u001b[0;32m--> 922\u001b[0m \u001b[39mself\u001b[39m\u001b[39m.\u001b[39msock \u001b[39m=\u001b[39m \u001b[39mself\u001b[39;49m\u001b[39m.\u001b[39;49m_create_connection(\n\u001b[1;32m    923\u001b[0m     (\u001b[39mself\u001b[39;49m\u001b[39m.\u001b[39;49mhost,\u001b[39mself\u001b[39;49m\u001b[39m.\u001b[39;49mport), \u001b[39mself\u001b[39;49m\u001b[39m.\u001b[39;49mtimeout, \u001b[39mself\u001b[39;49m\u001b[39m.\u001b[39;49msource_address)\n\u001b[1;32m    924\u001b[0m \u001b[39mself\u001b[39m\u001b[39m.\u001b[39msock\u001b[39m.\u001b[39msetsockopt(socket\u001b[39m.\u001b[39mIPPROTO_TCP, socket\u001b[39m.\u001b[39mTCP_NODELAY, \u001b[39m1\u001b[39m)\n",
      "File \u001b[0;32m~/anaconda3/envs/rayonaml-dev/lib/python3.8/socket.py:808\u001b[0m, in \u001b[0;36mcreate_connection\u001b[0;34m(address, timeout, source_address)\u001b[0m\n\u001b[1;32m    807\u001b[0m \u001b[39mtry\u001b[39;00m:\n\u001b[0;32m--> 808\u001b[0m     \u001b[39mraise\u001b[39;00m err\n\u001b[1;32m    809\u001b[0m \u001b[39mfinally\u001b[39;00m:\n\u001b[1;32m    810\u001b[0m     \u001b[39m# Break explicitly a reference cycle\u001b[39;00m\n",
      "File \u001b[0;32m~/anaconda3/envs/rayonaml-dev/lib/python3.8/socket.py:796\u001b[0m, in \u001b[0;36mcreate_connection\u001b[0;34m(address, timeout, source_address)\u001b[0m\n\u001b[1;32m    795\u001b[0m     sock\u001b[39m.\u001b[39mbind(source_address)\n\u001b[0;32m--> 796\u001b[0m sock\u001b[39m.\u001b[39;49mconnect(sa)\n\u001b[1;32m    797\u001b[0m \u001b[39m# Break explicitly a reference cycle\u001b[39;00m\n",
      "\u001b[0;31mConnectionRefusedError\u001b[0m: [Errno 111] Connection refused",
      "\nDuring handling of the above exception, another exception occurred:\n",
      "\u001b[0;31mURLError\u001b[0m                                  Traceback (most recent call last)",
      "Cell \u001b[0;32mIn [61], line 12\u001b[0m\n\u001b[1;32m      8\u001b[0m IPADDRESS \u001b[39m=\u001b[39m \u001b[39m'\u001b[39m\u001b[39mlocalhost\u001b[39m\u001b[39m'\u001b[39m\n\u001b[1;32m     10\u001b[0m req \u001b[39m=\u001b[39m urllib\u001b[39m.\u001b[39mrequest\u001b[39m.\u001b[39mRequest(url\u001b[39m=\u001b[39m\u001b[39mf\u001b[39m\u001b[39m'\u001b[39m\u001b[39mhttp://\u001b[39m\u001b[39m{\u001b[39;00mIPADDRESS\u001b[39m}\u001b[39;00m\u001b[39m:8000/get_dynamic_tenantmap\u001b[39m\u001b[39m'\u001b[39m, headers\u001b[39m=\u001b[39mheaders, method\u001b[39m=\u001b[39m\u001b[39m\"\u001b[39m\u001b[39mGET\u001b[39m\u001b[39m\"\u001b[39m)\n\u001b[0;32m---> 12\u001b[0m \u001b[39mwith\u001b[39;00m urllib\u001b[39m.\u001b[39;49mrequest\u001b[39m.\u001b[39;49murlopen(req) \u001b[39mas\u001b[39;00m res:\n\u001b[1;32m     13\u001b[0m   body \u001b[39m=\u001b[39m json\u001b[39m.\u001b[39mload(res)\n\u001b[1;32m     14\u001b[0m   \u001b[39mprint\u001b[39m(body)\n",
      "File \u001b[0;32m~/anaconda3/envs/rayonaml-dev/lib/python3.8/urllib/request.py:222\u001b[0m, in \u001b[0;36murlopen\u001b[0;34m(url, data, timeout, cafile, capath, cadefault, context)\u001b[0m\n\u001b[1;32m    220\u001b[0m \u001b[39melse\u001b[39;00m:\n\u001b[1;32m    221\u001b[0m     opener \u001b[39m=\u001b[39m _opener\n\u001b[0;32m--> 222\u001b[0m \u001b[39mreturn\u001b[39;00m opener\u001b[39m.\u001b[39;49mopen(url, data, timeout)\n",
      "File \u001b[0;32m~/anaconda3/envs/rayonaml-dev/lib/python3.8/urllib/request.py:525\u001b[0m, in \u001b[0;36mOpenerDirector.open\u001b[0;34m(self, fullurl, data, timeout)\u001b[0m\n\u001b[1;32m    522\u001b[0m     req \u001b[39m=\u001b[39m meth(req)\n\u001b[1;32m    524\u001b[0m sys\u001b[39m.\u001b[39maudit(\u001b[39m'\u001b[39m\u001b[39murllib.Request\u001b[39m\u001b[39m'\u001b[39m, req\u001b[39m.\u001b[39mfull_url, req\u001b[39m.\u001b[39mdata, req\u001b[39m.\u001b[39mheaders, req\u001b[39m.\u001b[39mget_method())\n\u001b[0;32m--> 525\u001b[0m response \u001b[39m=\u001b[39m \u001b[39mself\u001b[39;49m\u001b[39m.\u001b[39;49m_open(req, data)\n\u001b[1;32m    527\u001b[0m \u001b[39m# post-process response\u001b[39;00m\n\u001b[1;32m    528\u001b[0m meth_name \u001b[39m=\u001b[39m protocol\u001b[39m+\u001b[39m\u001b[39m\"\u001b[39m\u001b[39m_response\u001b[39m\u001b[39m\"\u001b[39m\n",
      "File \u001b[0;32m~/anaconda3/envs/rayonaml-dev/lib/python3.8/urllib/request.py:542\u001b[0m, in \u001b[0;36mOpenerDirector._open\u001b[0;34m(self, req, data)\u001b[0m\n\u001b[1;32m    539\u001b[0m     \u001b[39mreturn\u001b[39;00m result\n\u001b[1;32m    541\u001b[0m protocol \u001b[39m=\u001b[39m req\u001b[39m.\u001b[39mtype\n\u001b[0;32m--> 542\u001b[0m result \u001b[39m=\u001b[39m \u001b[39mself\u001b[39;49m\u001b[39m.\u001b[39;49m_call_chain(\u001b[39mself\u001b[39;49m\u001b[39m.\u001b[39;49mhandle_open, protocol, protocol \u001b[39m+\u001b[39;49m\n\u001b[1;32m    543\u001b[0m                           \u001b[39m'\u001b[39;49m\u001b[39m_open\u001b[39;49m\u001b[39m'\u001b[39;49m, req)\n\u001b[1;32m    544\u001b[0m \u001b[39mif\u001b[39;00m result:\n\u001b[1;32m    545\u001b[0m     \u001b[39mreturn\u001b[39;00m result\n",
      "File \u001b[0;32m~/anaconda3/envs/rayonaml-dev/lib/python3.8/urllib/request.py:502\u001b[0m, in \u001b[0;36mOpenerDirector._call_chain\u001b[0;34m(self, chain, kind, meth_name, *args)\u001b[0m\n\u001b[1;32m    500\u001b[0m \u001b[39mfor\u001b[39;00m handler \u001b[39min\u001b[39;00m handlers:\n\u001b[1;32m    501\u001b[0m     func \u001b[39m=\u001b[39m \u001b[39mgetattr\u001b[39m(handler, meth_name)\n\u001b[0;32m--> 502\u001b[0m     result \u001b[39m=\u001b[39m func(\u001b[39m*\u001b[39;49margs)\n\u001b[1;32m    503\u001b[0m     \u001b[39mif\u001b[39;00m result \u001b[39mis\u001b[39;00m \u001b[39mnot\u001b[39;00m \u001b[39mNone\u001b[39;00m:\n\u001b[1;32m    504\u001b[0m         \u001b[39mreturn\u001b[39;00m result\n",
      "File \u001b[0;32m~/anaconda3/envs/rayonaml-dev/lib/python3.8/urllib/request.py:1383\u001b[0m, in \u001b[0;36mHTTPHandler.http_open\u001b[0;34m(self, req)\u001b[0m\n\u001b[1;32m   1382\u001b[0m \u001b[39mdef\u001b[39;00m \u001b[39mhttp_open\u001b[39m(\u001b[39mself\u001b[39m, req):\n\u001b[0;32m-> 1383\u001b[0m     \u001b[39mreturn\u001b[39;00m \u001b[39mself\u001b[39;49m\u001b[39m.\u001b[39;49mdo_open(http\u001b[39m.\u001b[39;49mclient\u001b[39m.\u001b[39;49mHTTPConnection, req)\n",
      "File \u001b[0;32m~/anaconda3/envs/rayonaml-dev/lib/python3.8/urllib/request.py:1357\u001b[0m, in \u001b[0;36mAbstractHTTPHandler.do_open\u001b[0;34m(self, http_class, req, **http_conn_args)\u001b[0m\n\u001b[1;32m   1354\u001b[0m         h\u001b[39m.\u001b[39mrequest(req\u001b[39m.\u001b[39mget_method(), req\u001b[39m.\u001b[39mselector, req\u001b[39m.\u001b[39mdata, headers,\n\u001b[1;32m   1355\u001b[0m                   encode_chunked\u001b[39m=\u001b[39mreq\u001b[39m.\u001b[39mhas_header(\u001b[39m'\u001b[39m\u001b[39mTransfer-encoding\u001b[39m\u001b[39m'\u001b[39m))\n\u001b[1;32m   1356\u001b[0m     \u001b[39mexcept\u001b[39;00m \u001b[39mOSError\u001b[39;00m \u001b[39mas\u001b[39;00m err: \u001b[39m# timeout error\u001b[39;00m\n\u001b[0;32m-> 1357\u001b[0m         \u001b[39mraise\u001b[39;00m URLError(err)\n\u001b[1;32m   1358\u001b[0m     r \u001b[39m=\u001b[39m h\u001b[39m.\u001b[39mgetresponse()\n\u001b[1;32m   1359\u001b[0m \u001b[39mexcept\u001b[39;00m:\n",
      "\u001b[0;31mURLError\u001b[0m: <urlopen error [Errno 111] Connection refused>"
     ]
    }
   ],
   "source": [
    "import json \n",
    "import urllib.request\n",
    "import random\n",
    "import requests\n",
    "\n",
    "\n",
    "headers = {'Content-Type':'application/json'}\n",
    "IPADDRESS = 'localhost'\n",
    "\n",
    "req = urllib.request.Request(url=f'http://{IPADDRESS}:8000/get_dynamic_tenantmap', headers=headers, method=\"GET\")\n",
    "\n",
    "with urllib.request.urlopen(req) as res:\n",
    "  body = json.load(res)\n",
    "  print(body)"
   ]
  },
  {
   "cell_type": "markdown",
   "metadata": {},
   "source": [
    "API to update dedicated pool mapping. Try this to assign a tenant to a dedicated deployment"
   ]
  },
  {
   "cell_type": "code",
   "execution_count": 53,
   "metadata": {},
   "outputs": [
    {
     "name": "stdout",
     "output_type": "stream",
     "text": [
      "The request failed with status code: 500\n",
      "date: Mon, 05 Dec 2022 06:56:13 GMT\n",
      "server: uvicorn\n",
      "content-type: text/plain; charset=utf-8\n",
      "Transfer-Encoding: chunked\n",
      "Connection: close\n",
      "\n",
      "\n",
      "Task Error. Traceback: \u001b[36mray::ServeReplica:Dispatcher.handle_request()\u001b[39m (pid=12534, ip=172.19.74.241)\n",
      "  File \"/home/hyssh/anaconda3/envs/rayonaml-dev/lib/python3.8/site-packages/ray/serve/_private/utils.py\", line 231, in wrap_to_ray_error\n",
      "    raise exception\n",
      "  File \"/home/hyssh/anaconda3/envs/rayonaml-dev/lib/python3.8/site-packages/ray/serve/_private/replica.py\", line 420, in invoke_single\n",
      "    result = await method_to_call(*args, **kwargs)\n",
      "  File \"/home/hyssh/anaconda3/envs/rayonaml-dev/lib/python3.8/site-packages/ray/serve/api.py\", line 221, in __call__\n",
      "    await self._serve_app(\n",
      "  File \"/home/hyssh/anaconda3/envs/rayonaml-dev/lib/python3.8/site-packages/fastapi/applications.py\", line 270, in __call__\n",
      "    await super().__call__(scope, receive, send)\n",
      "  File \"/home/hyssh/anaconda3/envs/rayonaml-dev/lib/python3.8/site-packages/starlette/applications.py\", line 124, in __call__\n",
      "    await self.middleware_stack(scope, receive, send)\n",
      "  File \"/home/hyssh/anaconda3/envs/rayonaml-dev/lib/python3.8/site-packages/starlette/middleware/errors.py\", line 184, in __call__\n",
      "    raise exc\n",
      "  File \"/home/hyssh/anaconda3/envs/rayonaml-dev/lib/python3.8/site-packages/starlette/middleware/errors.py\", line 162, in __call__\n",
      "    await self.app(scope, receive, _send)\n",
      "  File \"/home/hyssh/anaconda3/envs/rayonaml-dev/lib/python3.8/site-packages/starlette/middleware/exceptions.py\", line 79, in __call__\n",
      "    raise exc\n",
      "  File \"/home/hyssh/anaconda3/envs/rayonaml-dev/lib/python3.8/site-packages/starlette/middleware/exceptions.py\", line 68, in __call__\n",
      "    await self.app(scope, receive, sender)\n",
      "  File \"/home/hyssh/anaconda3/envs/rayonaml-dev/lib/python3.8/site-packages/fastapi/middleware/asyncexitstack.py\", line 21, in __call__\n",
      "    raise e\n",
      "  File \"/home/hyssh/anaconda3/envs/rayonaml-dev/lib/python3.8/site-packages/fastapi/middleware/asyncexitstack.py\", line 18, in __call__\n",
      "    await self.app(scope, receive, send)\n",
      "  File \"/home/hyssh/anaconda3/envs/rayonaml-dev/lib/python3.8/site-packages/starlette/routing.py\", line 706, in __call__\n",
      "    await route.handle(scope, receive, send)\n",
      "  File \"/home/hyssh/anaconda3/envs/rayonaml-dev/lib/python3.8/site-packages/starlette/routing.py\", line 276, in handle\n",
      "    await self.app(scope, receive, send)\n",
      "  File \"/home/hyssh/anaconda3/envs/rayonaml-dev/lib/python3.8/site-packages/starlette/routing.py\", line 66, in app\n",
      "    response = await func(request)\n",
      "  File \"/home/hyssh/anaconda3/envs/rayonaml-dev/lib/python3.8/site-packages/fastapi/routing.py\", line 235, in app\n",
      "    raw_response = await run_endpoint_function(\n",
      "  File \"/home/hyssh/anaconda3/envs/rayonaml-dev/lib/python3.8/site-packages/fastapi/routing.py\", line 163, in run_endpoint_function\n",
      "    return await run_in_threadpool(dependant.call, **values)\n",
      "  File \"/home/hyssh/anaconda3/envs/rayonaml-dev/lib/python3.8/site-packages/starlette/concurrency.py\", line 41, in run_in_threadpool\n",
      "    return await anyio.to_thread.run_sync(func, *args)\n",
      "  File \"/home/hyssh/anaconda3/envs/rayonaml-dev/lib/python3.8/site-packages/anyio/to_thread.py\", line 31, in run_sync\n",
      "    return await get_asynclib().run_sync_in_worker_thread(\n",
      "  File \"/home/hyssh/anaconda3/envs/rayonaml-dev/lib/python3.8/site-packages/anyio/_backends/_asyncio.py\", line 937, in run_sync_in_worker_thread\n",
      "    return await future\n",
      "  File \"/home/hyssh/anaconda3/envs/rayonaml-dev/lib/python3.8/site-packages/anyio/_backends/_asyncio.py\", line 867, in run\n",
      "    result = context.run(func, *args)\n",
      "  File \"/home/hyssh/workspace/ray-serve-on-aml/src/core/./many_models_serving.py\", line 368, in process\n",
      "    deployment.reconfigure.remote({\"tenant\":tenant})\n",
      "  File \"/home/hyssh/anaconda3/envs/rayonaml-dev/lib/python3.8/site-packages/ray/serve/handle.py\", line 342, in remote\n",
      "    handle = serve._private.api.get_deployment(\n",
      "  File \"/home/hyssh/anaconda3/envs/rayonaml-dev/lib/python3.8/site-packages/ray/serve/deployment.py\", line 292, in _get_handle\n",
      "    return get_global_client().get_handle(self._name, missing_ok=True, sync=sync)\n",
      "  File \"/home/hyssh/anaconda3/envs/rayonaml-dev/lib/python3.8/site-packages/ray/serve/_private/client.py\", line 32, in check\n",
      "    return f(self, *args, **kwargs)\n",
      "  File \"/home/hyssh/anaconda3/envs/rayonaml-dev/lib/python3.8/site-packages/ray/serve/_private/client.py\", line 373, in get_handle\n",
      "    handle = RayServeHandle(\n",
      "  File \"/home/hyssh/anaconda3/envs/rayonaml-dev/lib/python3.8/site-packages/ray/serve/handle.py\", line 138, in __init__\n",
      "    self.router: Router = _router or self._make_router()\n",
      "  File \"/home/hyssh/anaconda3/envs/rayonaml-dev/lib/python3.8/site-packages/ray/serve/handle.py\", line 166, in _make_router\n",
      "    event_loop=asyncio.get_event_loop(),\n",
      "  File \"/home/hyssh/anaconda3/envs/rayonaml-dev/lib/python3.8/asyncio/events.py\", line 639, in get_event_loop\n",
      "    raise RuntimeError('There is no current event loop in thread %r.'\n",
      "RuntimeError: There is no current event loop in thread 'AnyIO worker thread'..\n"
     ]
    }
   ],
   "source": [
    "mapping ={\"ent_Tenant9\":\"deployment9\",\"ent_enant10\":\"deployment10\"}\n",
    "updated_dedicated_pool(mapping)"
   ]
  },
  {
   "cell_type": "code",
   "execution_count": null,
   "metadata": {},
   "outputs": [],
   "source": []
  }
 ],
 "metadata": {
  "kernelspec": {
   "display_name": "Python 3.8.13 ('rayonaml-dev')",
   "language": "python",
   "name": "python3"
  },
  "language_info": {
   "codemirror_mode": {
    "name": "ipython",
    "version": 3
   },
   "file_extension": ".py",
   "mimetype": "text/x-python",
   "name": "python",
   "nbconvert_exporter": "python",
   "pygments_lexer": "ipython3",
   "version": "3.8.13"
  },
  "orig_nbformat": 4,
  "vscode": {
   "interpreter": {
    "hash": "62a01b18a24551431df3a97531a6604ce4ab127b99edb965e74e8a23a6eb130b"
   }
  }
 },
 "nbformat": 4,
 "nbformat_minor": 2
}
