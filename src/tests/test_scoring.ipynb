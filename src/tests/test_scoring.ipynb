{
 "cells": [
  {
   "cell_type": "markdown",
   "metadata": {},
   "source": [
    "Preperation before running the test\n",
    "1. Register the model/model.joblib in your workspace under the name sklearn-iris\n",
    "2. Create AKS cluster and attach it to your workspace using AKS creation the commands in ray_aks_setup.yaml\n",
    "3. Deploy Azure ML web services with following commmand (install azure ml cli v2 if neccessary)\n",
    " az online-endpoint create -f endpoint.yml\n",
    " az online-deployment create -f blue-deployment.yml\n",
    "4. Update the environment variables with values in ray_service.yaml line 80-91 with values of a service principal to download model from your workspace (creating one and assign role if neccessary)\n",
    "5. Run ray service deployment commands in ray_aks_setup.yaml \n",
    "6. If you update your code (ray_score.py), then you have to zip the folder script and push to ray repo. Update the line 15 in ray_aks_setup.yaml to point the working_dir to the zip file in your git repo\n",
    "\n"
   ]
  },
  {
   "cell_type": "code",
   "execution_count": 1,
   "metadata": {},
   "outputs": [],
   "source": [
    "import json\n",
    "import urllib.request\n",
    "import random\n",
    "import requests\n",
    "\n",
    "IPADDRESS = 'localhost'\n",
    "base_uri = f'http://127.0.01:8000'\n",
    "\n",
    "def score(X, tenant):\n",
    "    # tenant = random.choices([\"tenant1\",\"tenant2\", \"tenant3\",\"tenant4\",\"tenant5\",\"tenant6\",\"tenant7\", \"tenant8\",\"tenant9\"])[0]\n",
    "    len = random.randint(2,50)\n",
    "    data = {\"tenant\":tenant, \"data\": X.head(len).to_numpy().tolist()}\n",
    "\n",
    "    body = str.encode(json.dumps(data))\n",
    "\n",
    "    url = f'{base_uri}/score'\n",
    "\n",
    "    headers = {'Content-Type':'application/json'}\n",
    "\n",
    "    req = urllib.request.Request(url, body, headers)\n",
    "\n",
    "    try:\n",
    "        response = urllib.request.urlopen(req)\n",
    "\n",
    "        result = response.read()\n",
    "        print(json.loads(result))\n",
    "    except urllib.error.HTTPError as error:\n",
    "        print(\"The request failed with status code: \" + str(error.code))\n",
    "\n",
    "        # Print the headers - they include the requert ID and the timestamp, which are useful for debugging the failure\n",
    "        print(error.info())\n",
    "        print(error.read().decode(\"utf8\", 'ignore'))\n",
    "\n",
    "def updated_dedicated_pool(mapping):\n",
    "\n",
    "    body = str.encode(json.dumps({\"mapping\":mapping}))\n",
    "\n",
    "    url = f'{base_uri}/update_dedicated_pool'\n",
    "\n",
    "    headers = {'Content-Type':'application/json'}\n",
    "\n",
    "    req = urllib.request.Request(url, body, headers)\n",
    "\n",
    "    try:\n",
    "        response = urllib.request.urlopen(req)\n",
    "\n",
    "        result = response.read()\n",
    "        print(json.loads(result))\n",
    "    except urllib.error.HTTPError as error:\n",
    "        print(\"The request failed with status code: \" + str(error.code))\n",
    "\n",
    "        # Print the headers - they include the requert ID and the timestamp, which are useful for debugging the failure\n",
    "        print(error.info())\n",
    "        print(error.read().decode(\"utf8\", 'ignore'))\n",
    "\n",
    "def get_dynamic_tenantmap():\n",
    "    url = f'{base_uri}/get_dynamic_tenantmap'\n",
    "    headers = {'Content-Type':'application/json'}\n",
    "    # req = urllib.request.Request(url, headers)\n",
    "\n",
    "    try:\n",
    "        # response = urllib.request.Request(url, headers, method=\"get\")\n",
    "        response = requests.get(url, headers=headers)\n",
    "\n",
    "        result = response.json()\n",
    "        print(result)\n",
    "    except urllib.error.HTTPError as error:\n",
    "        print(\"The request failed with status code: \" + str(error.code))\n",
    "\n",
    "        # Print the headers - they include the requert ID and the timestamp, which are useful for debugging the failure\n",
    "        print(error.info())\n",
    "        print(error.read().decode(\"utf8\", 'ignore'))\n"
   ]
  },
  {
   "cell_type": "code",
   "execution_count": 7,
   "metadata": {},
   "outputs": [],
   "source": [
    "import pandas as pd\n",
    "from sklearn.preprocessing import LabelEncoder\n",
    "import joblib\n",
    "dataset = pd.read_csv(\"https://azuremlexamples.blob.core.windows.net/datasets/iris.csv\")\n",
    "X= dataset[['sepal_length','sepal_width','petal_length','petal_width']]\n"
   ]
  },
  {
   "cell_type": "code",
   "execution_count": 14,
   "metadata": {},
   "outputs": [
    {
     "name": "stdout",
     "output_type": "stream",
     "text": [
      "None has not found\n"
     ]
    }
   ],
   "source": [
    "score(X, \"tenant9\")"
   ]
  },
  {
   "cell_type": "code",
   "execution_count": 15,
   "metadata": {},
   "outputs": [
    {
     "name": "stdout",
     "output_type": "stream",
     "text": [
      "{\"tenant1\": \"deployment1\", \"tenant2\": \"deployment2\", \"tenant3\": \"deployment3\", \"tenant4\": \"deployment4\", \"tenant5\": \"deployment5\", \"tenant6\": \"deployment6\", \"tenant7\": \"deployment7\", \"tenant8\": \"deployment8\"}\n"
     ]
    }
   ],
   "source": [
    "get_dynamic_tenantmap()"
   ]
  },
  {
   "cell_type": "code",
   "execution_count": 10,
   "metadata": {},
   "outputs": [
    {
     "name": "stdout",
     "output_type": "stream",
     "text": [
      "{\"tenant1\": \"deployment1\", \"tenant2\": \"deployment2\", \"tenant3\": \"deployment3\", \"tenant4\": \"deployment4\", \"tenant5\": \"deployment5\", \"tenant6\": \"deployment6\", \"tenant7\": \"deployment7\", \"tenant8\": \"deployment8\"}\n"
     ]
    }
   ],
   "source": [
    "import json \n",
    "import urllib.request\n",
    "import random\n",
    "import requests\n",
    "\n",
    "\n",
    "headers = {'Content-Type':'application/json'}\n",
    "IPADDRESS = 'localhost'\n",
    "\n",
    "req = urllib.request.Request(url=f'http://{IPADDRESS}:8000/get_dynamic_tenantmap', headers=headers, method=\"GET\")\n",
    "\n",
    "with urllib.request.urlopen(req) as res:\n",
    "  body = json.load(res)\n",
    "  print(body)"
   ]
  },
  {
   "cell_type": "markdown",
   "metadata": {},
   "source": [
    "API to update dedicated pool mapping. Try this to assign a tenant to a dedicated deployment"
   ]
  },
  {
   "cell_type": "code",
   "execution_count": 11,
   "metadata": {},
   "outputs": [
    {
     "name": "stdout",
     "output_type": "stream",
     "text": [
      "The request failed with status code: 500\n",
      "date: Mon, 05 Dec 2022 06:15:38 GMT\n",
      "server: uvicorn\n",
      "content-type: text/plain; charset=utf-8\n",
      "Transfer-Encoding: chunked\n",
      "Connection: close\n",
      "\n",
      "\n",
      "Task Error. Traceback: \u001b[36mray::ServeReplica:Dispatcher.handle_request()\u001b[39m (pid=1393, ip=172.19.74.241)\n",
      "  File \"/home/hyssh/anaconda3/envs/rayonaml-dev/lib/python3.8/site-packages/ray/serve/_private/utils.py\", line 231, in wrap_to_ray_error\n",
      "    raise exception\n",
      "  File \"/home/hyssh/anaconda3/envs/rayonaml-dev/lib/python3.8/site-packages/ray/serve/_private/replica.py\", line 420, in invoke_single\n",
      "    result = await method_to_call(*args, **kwargs)\n",
      "  File \"/home/hyssh/anaconda3/envs/rayonaml-dev/lib/python3.8/site-packages/ray/serve/api.py\", line 221, in __call__\n",
      "    await self._serve_app(\n",
      "  File \"/home/hyssh/anaconda3/envs/rayonaml-dev/lib/python3.8/site-packages/fastapi/applications.py\", line 270, in __call__\n",
      "    await super().__call__(scope, receive, send)\n",
      "  File \"/home/hyssh/anaconda3/envs/rayonaml-dev/lib/python3.8/site-packages/starlette/applications.py\", line 124, in __call__\n",
      "    await self.middleware_stack(scope, receive, send)\n",
      "  File \"/home/hyssh/anaconda3/envs/rayonaml-dev/lib/python3.8/site-packages/starlette/middleware/errors.py\", line 184, in __call__\n",
      "    raise exc\n",
      "  File \"/home/hyssh/anaconda3/envs/rayonaml-dev/lib/python3.8/site-packages/starlette/middleware/errors.py\", line 162, in __call__\n",
      "    await self.app(scope, receive, _send)\n",
      "  File \"/home/hyssh/anaconda3/envs/rayonaml-dev/lib/python3.8/site-packages/starlette/middleware/exceptions.py\", line 79, in __call__\n",
      "    raise exc\n",
      "  File \"/home/hyssh/anaconda3/envs/rayonaml-dev/lib/python3.8/site-packages/starlette/middleware/exceptions.py\", line 68, in __call__\n",
      "    await self.app(scope, receive, sender)\n",
      "  File \"/home/hyssh/anaconda3/envs/rayonaml-dev/lib/python3.8/site-packages/fastapi/middleware/asyncexitstack.py\", line 21, in __call__\n",
      "    raise e\n",
      "  File \"/home/hyssh/anaconda3/envs/rayonaml-dev/lib/python3.8/site-packages/fastapi/middleware/asyncexitstack.py\", line 18, in __call__\n",
      "    await self.app(scope, receive, send)\n",
      "  File \"/home/hyssh/anaconda3/envs/rayonaml-dev/lib/python3.8/site-packages/starlette/routing.py\", line 706, in __call__\n",
      "    await route.handle(scope, receive, send)\n",
      "  File \"/home/hyssh/anaconda3/envs/rayonaml-dev/lib/python3.8/site-packages/starlette/routing.py\", line 276, in handle\n",
      "    await self.app(scope, receive, send)\n",
      "  File \"/home/hyssh/anaconda3/envs/rayonaml-dev/lib/python3.8/site-packages/starlette/routing.py\", line 66, in app\n",
      "    response = await func(request)\n",
      "  File \"/home/hyssh/anaconda3/envs/rayonaml-dev/lib/python3.8/site-packages/fastapi/routing.py\", line 235, in app\n",
      "    raw_response = await run_endpoint_function(\n",
      "  File \"/home/hyssh/anaconda3/envs/rayonaml-dev/lib/python3.8/site-packages/fastapi/routing.py\", line 163, in run_endpoint_function\n",
      "    return await run_in_threadpool(dependant.call, **values)\n",
      "  File \"/home/hyssh/anaconda3/envs/rayonaml-dev/lib/python3.8/site-packages/starlette/concurrency.py\", line 41, in run_in_threadpool\n",
      "    return await anyio.to_thread.run_sync(func, *args)\n",
      "  File \"/home/hyssh/anaconda3/envs/rayonaml-dev/lib/python3.8/site-packages/anyio/to_thread.py\", line 31, in run_sync\n",
      "    return await get_asynclib().run_sync_in_worker_thread(\n",
      "  File \"/home/hyssh/anaconda3/envs/rayonaml-dev/lib/python3.8/site-packages/anyio/_backends/_asyncio.py\", line 937, in run_sync_in_worker_thread\n",
      "    return await future\n",
      "  File \"/home/hyssh/anaconda3/envs/rayonaml-dev/lib/python3.8/site-packages/anyio/_backends/_asyncio.py\", line 867, in run\n",
      "    result = context.run(func, *args)\n",
      "  File \"/home/hyssh/workspace/ray-serve-on-aml/src/core/./many_models_serving.py\", line 368, in process\n",
      "    deployment.reconfigure.remote({\"tenant\":tenant})\n",
      "  File \"/home/hyssh/anaconda3/envs/rayonaml-dev/lib/python3.8/site-packages/ray/serve/handle.py\", line 342, in remote\n",
      "    handle = serve._private.api.get_deployment(\n",
      "  File \"/home/hyssh/anaconda3/envs/rayonaml-dev/lib/python3.8/site-packages/ray/serve/deployment.py\", line 292, in _get_handle\n",
      "    return get_global_client().get_handle(self._name, missing_ok=True, sync=sync)\n",
      "  File \"/home/hyssh/anaconda3/envs/rayonaml-dev/lib/python3.8/site-packages/ray/serve/_private/client.py\", line 32, in check\n",
      "    return f(self, *args, **kwargs)\n",
      "  File \"/home/hyssh/anaconda3/envs/rayonaml-dev/lib/python3.8/site-packages/ray/serve/_private/client.py\", line 373, in get_handle\n",
      "    handle = RayServeHandle(\n",
      "  File \"/home/hyssh/anaconda3/envs/rayonaml-dev/lib/python3.8/site-packages/ray/serve/handle.py\", line 138, in __init__\n",
      "    self.router: Router = _router or self._make_router()\n",
      "  File \"/home/hyssh/anaconda3/envs/rayonaml-dev/lib/python3.8/site-packages/ray/serve/handle.py\", line 166, in _make_router\n",
      "    event_loop=asyncio.get_event_loop(),\n",
      "  File \"/home/hyssh/anaconda3/envs/rayonaml-dev/lib/python3.8/asyncio/events.py\", line 639, in get_event_loop\n",
      "    raise RuntimeError('There is no current event loop in thread %r.'\n",
      "RuntimeError: There is no current event loop in thread 'AnyIO worker thread'..\n"
     ]
    }
   ],
   "source": [
    "mapping ={\"ent_Tenant9\":\"deployment9\",\"ent_enant10\":\"deployment10\"}\n",
    "updated_dedicated_pool(mapping)"
   ]
  },
  {
   "cell_type": "code",
   "execution_count": null,
   "metadata": {},
   "outputs": [],
   "source": []
  }
 ],
 "metadata": {
  "kernelspec": {
   "display_name": "Python 3.8.13 ('rayonaml-dev')",
   "language": "python",
   "name": "python3"
  },
  "language_info": {
   "codemirror_mode": {
    "name": "ipython",
    "version": 3
   },
   "file_extension": ".py",
   "mimetype": "text/x-python",
   "name": "python",
   "nbconvert_exporter": "python",
   "pygments_lexer": "ipython3",
   "version": "3.8.13"
  },
  "orig_nbformat": 4,
  "vscode": {
   "interpreter": {
    "hash": "62a01b18a24551431df3a97531a6604ce4ab127b99edb965e74e8a23a6eb130b"
   }
  }
 },
 "nbformat": 4,
 "nbformat_minor": 2
}
