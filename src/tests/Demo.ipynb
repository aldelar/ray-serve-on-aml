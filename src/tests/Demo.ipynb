{
 "cells": [
  {
   "cell_type": "markdown",
   "metadata": {},
   "source": [
    "# Demo \n",
    "\n",
    "Code for demo"
   ]
  },
  {
   "cell_type": "code",
   "execution_count": null,
   "metadata": {},
   "outputs": [],
   "source": [
    "import json\n",
    "import urllib.request\n",
    "import random\n",
    "import pandas as pd\n",
    "\n",
    "IPADDRESS = '20.98.127.24'\n",
    "base_uri = f'http://{IPADDRESS}:8000'\n",
    "\n",
    "dataset = pd.read_csv(\"https://azuremlexamples.blob.core.windows.net/datasets/iris.csv\")\n",
    "X=dataset[['sepal_length','sepal_width','petal_length','petal_width']]\n",
    "\n",
    "def score(X, tenant):\n",
    "    # tenant = random.choices([\"tenant1\",\"tenant2\", \"tenant3\",\"tenant4\",\"tenant5\",\"tenant6\",\"tenant7\", \"tenant8\",\"tenant9\"])[0]\n",
    "    len = random.randint(2,50)\n",
    "    data = {\"tenant\":tenant, \"data\": X.head(len).to_numpy().tolist()}\n",
    "    body = str.encode(json.dumps(data))\n",
    "    url = f'{base_uri}/score'\n",
    "    headers = {'Content-Type':'application/json'}\n",
    "    req = urllib.request.Request(url, body, headers)\n",
    "\n",
    "    try:\n",
    "        response = urllib.request.urlopen(req)\n",
    "        result = response.read()\n",
    "        print(json.loads(result))\n",
    "    except urllib.error.HTTPError as error:\n",
    "        print(\"The request failed with status code: \" + str(error.code))\n",
    "        # Print the headers - they include the requert ID and the timestamp, which are useful for debugging the failure\n",
    "        print(error.info())\n",
    "        print(error.read().decode(\"utf8\", 'ignore'))\n",
    "\n",
    "def get_deploymentmap():\n",
    "    headers = {'Content-Type':'application/json'}\n",
    "    req = urllib.request.Request(url=f'http://{IPADDRESS}:8000/get_deploymentmap', headers=headers, method=\"GET\")\n",
    "\n",
    "    try:\n",
    "        response = urllib.request.urlopen(req)\n",
    "        result = response.read()\n",
    "        print(json.loads(result))\n",
    "    except urllib.error.HTTPError as error:\n",
    "        print(\"The request failed with status code: \" + str(error.code))\n",
    "        # Print the headers - they include the requert ID and the timestamp, which are useful for debugging the failure\n",
    "        print(error.info())\n",
    "        print(error.read().decode(\"utf8\", 'ignore'))\n",
    "\n",
    "def get_dynamic_tenantmap():\n",
    "    headers = {'Content-Type':'application/json'}\n",
    "    req = urllib.request.Request(url=f'http://{IPADDRESS}:8000/get_dynamic_tenantmap', headers=headers, method=\"GET\")\n",
    "\n",
    "    try:\n",
    "        response = urllib.request.urlopen(req)\n",
    "        result = response.read()\n",
    "        print(json.loads(result))\n",
    "    except urllib.error.HTTPError as error:\n",
    "        print(\"The request failed with status code: \" + str(error.code))\n",
    "        # Print the headers - they include the requert ID and the timestamp, which are useful for debugging the failure\n",
    "        print(error.info())\n",
    "        print(error.read().decode(\"utf8\", 'ignore'))\n",
    "        \n",
    "def get_dedicated_tenantmap():\n",
    "    headers = {'Content-Type':'application/json'}\n",
    "    req = urllib.request.Request(url=f'http://{IPADDRESS}:8000/get_dedicated_tenantmap', headers=headers, method=\"GET\")\n",
    "\n",
    "    try:\n",
    "        response = urllib.request.urlopen(req)\n",
    "        result = response.read()\n",
    "        print(json.loads(result))\n",
    "    except urllib.error.HTTPError as error:\n",
    "        print(\"The request failed with status code: \" + str(error.code))\n",
    "        # Print the headers - they include the requert ID and the timestamp, which are useful for debugging the failure\n",
    "        print(error.info())\n",
    "        print(error.read().decode(\"utf8\", 'ignore'))\n",
    "\n",
    "\n",
    "def updated_dedicated_pool(mapping):\n",
    "    body = str.encode(json.dumps({\"mapping\":mapping}))\n",
    "    url = f'{base_uri}/update_dedicated_pool'\n",
    "    headers = {'Content-Type':'application/json'}\n",
    "    req = urllib.request.Request(url, body, headers)\n",
    "    try:\n",
    "        response = urllib.request.urlopen(req)\n",
    "        result = response.read()\n",
    "        print(json.loads(result))\n",
    "    except urllib.error.HTTPError as error:\n",
    "        print(\"The request failed with status code: \" + str(error.code))\n",
    "        # Print the headers - they include the requert ID and the timestamp, which are useful for debugging the failure\n",
    "        print(error.info())\n",
    "        print(error.read().decode(\"utf8\", 'ignore'))\n",
    "\n",
    "[score(X, f\"tenant{i}\") for i in range(1, 9)]\n",
    "mapping ={\"tenant9\":\"deployment9\",\"tenant10\":\"deployment10\"}\n",
    "updated_dedicated_pool(mapping)"
   ]
  },
  {
   "cell_type": "markdown",
   "metadata": {},
   "source": [
    "## Scenario\n",
    "\n",
    "100 models in total in AML \n",
    "\n",
    "Due to limisted resouces (CPU and Memory), we decided to load 10 models\n",
    "\n",
    "Let's check which models are loaded in Hot memory"
   ]
  },
  {
   "cell_type": "markdown",
   "metadata": {},
   "source": [
    "![](../../images/01_Deployment_RayServer.png)"
   ]
  },
  {
   "cell_type": "code",
   "execution_count": 9,
   "metadata": {},
   "outputs": [
    {
     "name": "stdout",
     "output_type": "stream",
     "text": [
      "[\"Deployment1\", \"Deployment2\", \"Deployment3\", \"Deployment4\", \"Deployment5\", \"Deployment6\", \"Deployment7\", \"Deployment8\", \"Deployment9\", \"Deployment10\", \"Deploymentx\"]\n"
     ]
    }
   ],
   "source": [
    "# headers = {'Content-Type':'application/json'}\n",
    "# req = urllib.request.Request(url=f'http://{IPADDRESS}:8000/get_deploymentmap', headers=headers, method=\"GET\")\n",
    "\n",
    "# response = urllib.request.urlopen(req)\n",
    "# result = response.read()\n",
    "# print(json.loads(result))\n",
    "get_deploymentmap()"
   ]
  },
  {
   "cell_type": "markdown",
   "metadata": {},
   "source": [
    "![](../../images/02_Deployment_Tenant__RayServer.png)"
   ]
  },
  {
   "cell_type": "code",
   "execution_count": 13,
   "metadata": {},
   "outputs": [
    {
     "name": "stdout",
     "output_type": "stream",
     "text": [
      "{\"tenant2\": \"deployment4\", \"tenant5\": \"deployment6\", \"tenant6\": \"deployment2\", \"tenant7\": \"deployment7\", \"tenant8\": \"deployment8\", \"tenant54\": \"deployment1\", \"tenant45\": \"deployment3\", \"tenant1\": \"deployment5\"}\n"
     ]
    }
   ],
   "source": [
    "# http://{IPADDRESS}:8000/get_dynamic_tenantmap\n",
    "get_dynamic_tenantmap()"
   ]
  },
  {
   "cell_type": "markdown",
   "metadata": {},
   "source": [
    "Test inference as `tenant1` user"
   ]
  },
  {
   "cell_type": "code",
   "execution_count": 12,
   "metadata": {},
   "outputs": [
    {
     "name": "stdout",
     "output_type": "stream",
     "text": [
      "{'deployment': 'Deployment5', 'model': 'tenant1', 'prediction': [0, 0, 0, 0, 0, 0, 0, 0, 0, 0, 0, 0, 0]}\n",
      "CPU times: user 4.32 ms, sys: 0 ns, total: 4.32 ms\n",
      "Wall time: 262 ms\n"
     ]
    }
   ],
   "source": [
    "%%time\n",
    "score(X, \"tenant1\")"
   ]
  },
  {
   "cell_type": "markdown",
   "metadata": {},
   "source": [
    "Test inference as `tenant2` user"
   ]
  },
  {
   "cell_type": "code",
   "execution_count": 14,
   "metadata": {},
   "outputs": [
    {
     "name": "stdout",
     "output_type": "stream",
     "text": [
      "{'deployment': 'Deployment4', 'model': 'tenant2', 'prediction': [0, 0, 0, 0, 0, 0, 0, 0, 0, 0, 0, 0, 0, 0, 0, 0, 0, 0, 0, 0, 0, 0, 0, 0, 0, 0, 0, 0, 0, 0, 0, 0, 0, 0, 0, 0, 0, 0, 0, 0]}\n",
      "CPU times: user 1.9 ms, sys: 1.42 ms, total: 3.32 ms\n",
      "Wall time: 260 ms\n"
     ]
    }
   ],
   "source": [
    "%%time\n",
    "score(X, \"tenant2\")"
   ]
  },
  {
   "cell_type": "markdown",
   "metadata": {},
   "source": [
    "Test inference as `tenant45` user"
   ]
  },
  {
   "cell_type": "code",
   "execution_count": 16,
   "metadata": {},
   "outputs": [
    {
     "name": "stdout",
     "output_type": "stream",
     "text": [
      "{'deployment': 'Deploymentx', 'model': 'tenant39', 'prediction': [0, 0, 0, 0, 0, 0, 0, 0, 0, 0, 0, 0, 0, 0, 0]}\n",
      "CPU times: user 6.51 ms, sys: 15.3 ms, total: 21.8 ms\n",
      "Wall time: 2.35 s\n"
     ]
    }
   ],
   "source": [
    "%%time\n",
    "score(X, \"tenant39\")"
   ]
  },
  {
   "cell_type": "markdown",
   "metadata": {},
   "source": [
    "Check models in memory (Hot)"
   ]
  },
  {
   "cell_type": "markdown",
   "metadata": {},
   "source": [
    "![](../../images/03_Deployment_Tenant_NewTenant_RayServer.png)"
   ]
  },
  {
   "cell_type": "code",
   "execution_count": 17,
   "metadata": {},
   "outputs": [
    {
     "name": "stdout",
     "output_type": "stream",
     "text": [
      "{\"tenant2\": \"deployment4\", \"tenant6\": \"deployment2\", \"tenant7\": \"deployment7\", \"tenant8\": \"deployment8\", \"tenant54\": \"deployment1\", \"tenant45\": \"deployment3\", \"tenant1\": \"deployment5\", \"tenant39\": \"deployment6\"}\n"
     ]
    }
   ],
   "source": [
    "# http://{IPADDRESS}:8000/get_dynamic_tenantmap\n",
    "get_dynamic_tenantmap()"
   ]
  },
  {
   "cell_type": "markdown",
   "metadata": {},
   "source": [
    "And run inference again as the last `tenant45` user"
   ]
  },
  {
   "cell_type": "code",
   "execution_count": 18,
   "metadata": {},
   "outputs": [
    {
     "name": "stdout",
     "output_type": "stream",
     "text": [
      "{'deployment': 'Deployment6', 'model': 'tenant39', 'prediction': [0, 0, 0, 0, 0, 0, 0, 0, 0, 0, 0, 0, 0, 0, 0, 0, 0, 0, 0, 0, 0, 0, 0, 0, 0, 0, 0, 0, 0, 0, 0, 0, 0, 0, 0, 0, 0, 0, 0, 0, 0, 0, 0, 0, 0, 0, 0, 0, 0, 0]}\n",
      "CPU times: user 2.37 ms, sys: 1.76 ms, total: 4.14 ms\n",
      "Wall time: 254 ms\n"
     ]
    }
   ],
   "source": [
    "%%time\n",
    "score(X, \"tenant39\")"
   ]
  },
  {
   "cell_type": "code",
   "execution_count": 19,
   "metadata": {},
   "outputs": [
    {
     "name": "stdout",
     "output_type": "stream",
     "text": [
      "{\"tenant2\": \"deployment4\", \"tenant6\": \"deployment2\", \"tenant7\": \"deployment7\", \"tenant8\": \"deployment8\", \"tenant54\": \"deployment1\", \"tenant45\": \"deployment3\", \"tenant1\": \"deployment5\", \"tenant39\": \"deployment6\"}\n"
     ]
    }
   ],
   "source": [
    "# http://{IPADDRESS}:8000/get_dynamic_tenantmap\n",
    "get_dynamic_tenantmap()"
   ]
  },
  {
   "cell_type": "markdown",
   "metadata": {},
   "source": [
    "Need to pin some of users's model regardless of the frequency of inference"
   ]
  },
  {
   "cell_type": "markdown",
   "metadata": {},
   "source": [
    "API to update dedicated pool mapping. Try this to assign a tenant to a dedicated deployment"
   ]
  },
  {
   "cell_type": "code",
   "execution_count": 20,
   "metadata": {},
   "outputs": [
    {
     "name": "stdout",
     "output_type": "stream",
     "text": [
      "{\"tenant9\": \"deployment9\", \"tenant10\": \"deployment10\"}\n"
     ]
    }
   ],
   "source": [
    "# http://{IPADDRESS}:8000/get_dedicated_tenantmap\n",
    "get_dedicated_tenantmap()"
   ]
  },
  {
   "cell_type": "markdown",
   "metadata": {},
   "source": [
    "Test inference as exsiting tenant user in the dedicated memory (Hot)"
   ]
  },
  {
   "cell_type": "code",
   "execution_count": 21,
   "metadata": {},
   "outputs": [
    {
     "name": "stdout",
     "output_type": "stream",
     "text": [
      "{'deployment': 'Deployment9', 'model': 'tenant9', 'prediction': [0, 0, 0, 0, 0, 0, 0, 0, 0, 0, 0, 0, 0, 0, 0, 0, 0, 0, 0, 0, 0, 0, 0]}\n",
      "CPU times: user 2.01 ms, sys: 1.48 ms, total: 3.49 ms\n",
      "Wall time: 272 ms\n"
     ]
    }
   ],
   "source": [
    "%%time\n",
    "score(X, \"tenant9\")"
   ]
  },
  {
   "cell_type": "markdown",
   "metadata": {},
   "source": [
    "![](../../images/04_Deployment_Tenant_DedicatedTenant_RayServer.png)"
   ]
  },
  {
   "cell_type": "code",
   "execution_count": 22,
   "metadata": {},
   "outputs": [
    {
     "name": "stdout",
     "output_type": "stream",
     "text": [
      "{'tenant91': 'deployment9', 'tenant92': 'deployment10'}\n"
     ]
    }
   ],
   "source": [
    "mapping ={\"tenant91\":\"deployment9\",\"tenant92\":\"deployment10\"}\n",
    "updated_dedicated_pool(mapping)"
   ]
  },
  {
   "cell_type": "markdown",
   "metadata": {},
   "source": [
    "Test inference as `tenant91` or `tenant92`"
   ]
  },
  {
   "cell_type": "code",
   "execution_count": 23,
   "metadata": {},
   "outputs": [
    {
     "name": "stdout",
     "output_type": "stream",
     "text": [
      "{'deployment': 'Deployment9', 'model': 'tenant91', 'prediction': [0, 0, 0, 0, 0, 0, 0, 0, 0, 0, 0, 0, 0, 0, 0, 0, 0, 0, 0, 0, 0, 0, 0, 0, 0, 0, 0, 0, 0, 0, 0, 0, 0, 0, 0, 0, 0, 0, 0, 0, 0, 0, 0, 0, 0, 0]}\n",
      "CPU times: user 0 ns, sys: 4 ms, total: 4 ms\n",
      "Wall time: 258 ms\n"
     ]
    }
   ],
   "source": [
    "%%time\n",
    "score(X, \"tenant91\")"
   ]
  },
  {
   "cell_type": "code",
   "execution_count": 24,
   "metadata": {},
   "outputs": [
    {
     "name": "stdout",
     "output_type": "stream",
     "text": [
      "{'deployment': 'Deployment10', 'model': 'tenant92', 'prediction': [0, 0, 0, 0, 0, 0, 0, 0, 0, 0, 0, 0, 0, 0, 0, 0, 0, 0, 0, 0, 0, 0, 0, 0, 0, 0, 0, 0, 0, 0, 0, 0, 0, 0, 0, 0, 0, 0, 0, 0]}\n",
      "CPU times: user 0 ns, sys: 3.46 ms, total: 3.46 ms\n",
      "Wall time: 257 ms\n"
     ]
    }
   ],
   "source": [
    "%%time\n",
    "score(X, \"tenant92\")"
   ]
  },
  {
   "cell_type": "markdown",
   "metadata": {},
   "source": [
    "How about the old `tenant9`?"
   ]
  },
  {
   "cell_type": "code",
   "execution_count": 27,
   "metadata": {},
   "outputs": [
    {
     "name": "stdout",
     "output_type": "stream",
     "text": [
      "{'deployment': 'Deployment2', 'model': 'tenant9', 'prediction': [0, 0, 0, 0, 0, 0, 0, 0, 0, 0, 0]}\n",
      "CPU times: user 4.59 ms, sys: 0 ns, total: 4.59 ms\n",
      "Wall time: 253 ms\n"
     ]
    }
   ],
   "source": [
    "%%time\n",
    "score(X, \"tenant9\")"
   ]
  },
  {
   "cell_type": "code",
   "execution_count": 28,
   "metadata": {},
   "outputs": [
    {
     "name": "stdout",
     "output_type": "stream",
     "text": [
      "{\"tenant2\": \"deployment4\", \"tenant7\": \"deployment7\", \"tenant8\": \"deployment8\", \"tenant54\": \"deployment1\", \"tenant45\": \"deployment3\", \"tenant1\": \"deployment5\", \"tenant39\": \"deployment6\", \"tenant9\": \"deployment2\"}\n"
     ]
    }
   ],
   "source": [
    "# http://{IPADDRESS}:8000/get_dynamic_tenantmap\n",
    "get_dynamic_tenantmap()"
   ]
  },
  {
   "cell_type": "markdown",
   "metadata": {},
   "source": [
    "Check tenants in memory (Hot) again"
   ]
  },
  {
   "cell_type": "code",
   "execution_count": 29,
   "metadata": {},
   "outputs": [
    {
     "name": "stdout",
     "output_type": "stream",
     "text": [
      "{\"tenant91\": \"deployment9\", \"tenant92\": \"deployment10\"}\n"
     ]
    }
   ],
   "source": [
    "# http://{IPADDRESS}:8000/get_dedicated_tenantmap\n",
    "get_dedicated_tenantmap()"
   ]
  },
  {
   "cell_type": "code",
   "execution_count": null,
   "metadata": {},
   "outputs": [],
   "source": []
  }
 ],
 "metadata": {
  "kernelspec": {
   "display_name": "Python 3.8.13 ('rayonaml-dev')",
   "language": "python",
   "name": "python3"
  },
  "language_info": {
   "codemirror_mode": {
    "name": "ipython",
    "version": 3
   },
   "file_extension": ".py",
   "mimetype": "text/x-python",
   "name": "python",
   "nbconvert_exporter": "python",
   "pygments_lexer": "ipython3",
   "version": "3.8.13"
  },
  "orig_nbformat": 4,
  "vscode": {
   "interpreter": {
    "hash": "62a01b18a24551431df3a97531a6604ce4ab127b99edb965e74e8a23a6eb130b"
   }
  }
 },
 "nbformat": 4,
 "nbformat_minor": 2
}
