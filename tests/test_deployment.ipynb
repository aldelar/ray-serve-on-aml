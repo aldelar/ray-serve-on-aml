{
 "cells": [
  {
   "cell_type": "code",
   "execution_count": null,
   "metadata": {},
   "outputs": [],
   "source": [
    "import urllib.request\n",
    "import requests\n",
    "import pandas as pd\n",
    "import json\n",
    "for file_name in ['data/test_data_1000_dominicks.csv','data/test_data_1002_tropicana.csv']:\n",
    "    sample_data= pd.read_csv(file_name)\n",
    "    sample_data.drop(['Unnamed: 0'], axis=1, inplace=True)\n",
    "    #Use the below version of URL and header in case you test with remote web service (AKS)\n",
    "    url ='https://many-model2.westus2.inference.ml.azure.com/score'\n",
    "    api_key = '' # Replace this with the API key for the web service\n",
    "    headers = {'Content-Type':'application/json', 'Authorization':('Bearer '+ api_key)}\n",
    "\n",
    "\n",
    "\n",
    "    data = {\"Inputs\":sample_data.to_json() }\n",
    "    body = str.encode(json.dumps(data))\n",
    "    resp = requests.post(url, data=body, headers=headers)\n",
    "    print(resp.text)\n"
   ]
  },
  {
   "cell_type": "code",
   "execution_count": null,
   "metadata": {},
   "outputs": [],
   "source": [
    "import sys\n",
    "from azure.identity import DefaultAzureCredential\n",
    "from azure.mgmt.authorization import AuthorizationManagementClient\n",
    "\n",
    "\n",
    "\n",
    "credential = DefaultAzureCredential()\n",
    "client = AuthorizationManagementClient(\n",
    "    credential=credential,\n",
    "    subscription_id=\"\"\n",
    ")\n",
    "\n",
    "desired_action = \"Microsoft.ContainerService/managedclusters/extensionaddons/read\"\n",
    "desired_action_lower = desired_action.lower()\n",
    "# desired_action_wildcard = \"/\".join(desired_action_lower.split(\"/\")[:-1] + [\"*\"])\n",
    "\n",
    "role_definitions = list(client.role_definitions.list(scope=\"\"))\n",
    "for role_def in client.role_definitions.list(scope=\"\"):\n",
    "    for permission in role_def.permissions:\n",
    "        for action in permission.actions:\n",
    "            if desired_action_lower in action.lower():\n",
    "                print(f\"Role '{role_def.role_name}' contains {action}\")\n"
   ]
  },
  {
   "cell_type": "code",
   "execution_count": null,
   "metadata": {},
   "outputs": [],
   "source": []
  }
 ],
 "metadata": {
  "kernelspec": {
   "display_name": "Python 3.8.13 ('ray-serve-on-aml')",
   "language": "python",
   "name": "python3"
  },
  "language_info": {
   "codemirror_mode": {
    "name": "ipython",
    "version": 3
   },
   "file_extension": ".py",
   "mimetype": "text/x-python",
   "name": "python",
   "nbconvert_exporter": "python",
   "pygments_lexer": "ipython3",
   "version": "3.8.13"
  },
  "orig_nbformat": 4,
  "vscode": {
   "interpreter": {
    "hash": "03c0a7d3c603265dbf4eabc6852165f9f81d4e25ea3d5729daa6d8776ddfd51e"
   }
  }
 },
 "nbformat": 4,
 "nbformat_minor": 2
}
